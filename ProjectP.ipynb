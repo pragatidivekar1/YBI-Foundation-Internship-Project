{
  "nbformat": 4,
  "nbformat_minor": 0,
  "metadata": {
    "colab": {
      "provenance": [],
      "authorship_tag": "ABX9TyOs6CNycPl0jir+2Qeu7514",
      "include_colab_link": true
    },
    "kernelspec": {
      "name": "python3",
      "display_name": "Python 3"
    },
    "language_info": {
      "name": "python"
    }
  },
  "cells": [
    {
      "cell_type": "markdown",
      "metadata": {
        "id": "view-in-github",
        "colab_type": "text"
      },
      "source": [
        "<a href=\"https://colab.research.google.com/github/pragatidivekar1/YBI-Foundation-Internship-Project/blob/main/ProjectP.ipynb\" target=\"_parent\"><img src=\"https://colab.research.google.com/assets/colab-badge.svg\" alt=\"Open In Colab\"/></a>"
      ]
    },
    {
      "cell_type": "markdown",
      "source": [
        "#  **⭐ Classification Model to Identify Multiple Disease**"
      ],
      "metadata": {
        "id": "ULECAl2iweG9"
      }
    },
    {
      "cell_type": "code",
      "execution_count": null,
      "metadata": {
        "id": "CrFSqJgXmVOM"
      },
      "outputs": [],
      "source": [
        "# import library\n",
        "import pandas as pd\n"
      ]
    },
    {
      "cell_type": "code",
      "source": [
        "# import data\n",
        "disease = pd.read_csv('https://github.com/ybifoundation/Dataset/raw/main/MultipleDiseasePrediction.csv')"
      ],
      "metadata": {
        "id": "pQ9zvHZfmZkG"
      },
      "execution_count": null,
      "outputs": []
    },
    {
      "cell_type": "code",
      "source": [
        "# view data\n",
        "disease.head()"
      ],
      "metadata": {
        "id": "6n4elGDUoHVO"
      },
      "execution_count": null,
      "outputs": []
    },
    {
      "cell_type": "code",
      "source": [
        "# info of data\n",
        "disease.info()"
      ],
      "metadata": {
        "id": "S2huFWRhzYfh"
      },
      "execution_count": null,
      "outputs": []
    },
    {
      "cell_type": "code",
      "source": [
        "# summary statistics\n",
        "disease.describe()"
      ],
      "metadata": {
        "id": "-ecPqFzp0VBx"
      },
      "execution_count": null,
      "outputs": []
    },
    {
      "cell_type": "code",
      "source": [
        "# check for missing value\n",
        "disease.isna().sum()"
      ],
      "metadata": {
        "id": "pdNz4tck3eO5"
      },
      "execution_count": null,
      "outputs": []
    },
    {
      "cell_type": "code",
      "source": [
        "# check for categories"
      ],
      "metadata": {
        "id": "TtPNXFSm1ZUX"
      },
      "execution_count": null,
      "outputs": []
    },
    {
      "cell_type": "code",
      "source": [
        "# correlation\n",
        "x.corr()"
      ],
      "metadata": {
        "id": "AfHMc1Ro1f6O"
      },
      "execution_count": null,
      "outputs": []
    },
    {
      "cell_type": "code",
      "source": [
        "# visualize pairplot\n",
        "from sklearn.model_selection import train_test_split"
      ],
      "metadata": {
        "id": "Ry-1903l1m9P"
      },
      "execution_count": 31,
      "outputs": []
    },
    {
      "cell_type": "code",
      "source": [
        "# column names\n",
        "disease.columns"
      ],
      "metadata": {
        "id": "s66PVDnmDxJX"
      },
      "execution_count": null,
      "outputs": []
    },
    {
      "cell_type": "code",
      "source": [
        "# define y\n",
        "y = disease['prognosis']"
      ],
      "metadata": {
        "id": "Eqin7G0kGHW8"
      },
      "execution_count": null,
      "outputs": []
    },
    {
      "cell_type": "code",
      "source": [
        "# define X\n",
        "x = disease[['itching', 'skin_rash', 'nodal_skin_eruptions', 'continuous_sneezing',\n",
        "       'shivering', 'chills', 'joint_pain', 'stomach_pain', 'acidity',\n",
        "       'ulcers_on_tongue','blackheads', 'scurring', 'skin_peeling', 'silver_like_dusting',\n",
        "       'small_dents_in_nails', 'inflammatory_nails', 'blister',\n",
        "       'red_sore_around_nose', 'yellow_crust_ooze', ]]"
      ],
      "metadata": {
        "id": "nC7_6JoPGioU"
      },
      "execution_count": null,
      "outputs": []
    },
    {
      "cell_type": "code",
      "source": [
        "# split data\n",
        "x_train,x_test,y_train,y_test=train_test_split(x,y,random_state=2345)"
      ],
      "metadata": {
        "id": "gzUPhM3d1r-7"
      },
      "execution_count": 36,
      "outputs": []
    },
    {
      "cell_type": "code",
      "source": [
        "# verify shapes\n",
        "x_train.shape,x_test.shape,y_train.shape,y_test.shape"
      ],
      "metadata": {
        "id": "-3MzF25b1Nez"
      },
      "execution_count": null,
      "outputs": []
    },
    {
      "cell_type": "code",
      "source": [
        "# select model\n",
        "from sklearn.ensemble import RandomForestClassifier\n",
        "rf= RandomForestClassifier()"
      ],
      "metadata": {
        "id": "WGnqYbVhyO9R"
      },
      "execution_count": null,
      "outputs": []
    },
    {
      "cell_type": "code",
      "source": [
        "# train model\n",
        "rf.fit(x, y)"
      ],
      "metadata": {
        "id": "B3cOKkGJy2wm"
      },
      "execution_count": null,
      "outputs": []
    },
    {
      "cell_type": "code",
      "source": [
        "# predict with model\n",
        "y_pred = rf.predict(x)"
      ],
      "metadata": {
        "id": "lNZKjHC215oA"
      },
      "execution_count": null,
      "outputs": []
    },
    {
      "cell_type": "code",
      "source": [
        "# model evaluation\n",
        "from sklearn.metrics import accuracy_score,confusion_matrix,classification_report"
      ],
      "metadata": {
        "id": "WFB8C2uNDupN"
      },
      "execution_count": 43,
      "outputs": []
    },
    {
      "cell_type": "code",
      "source": [
        "# model accuracy\n",
        "accuracy_score(y,y_pred)"
      ],
      "metadata": {
        "id": "ZKRWJw1qDta4"
      },
      "execution_count": null,
      "outputs": []
    },
    {
      "cell_type": "code",
      "source": [
        "# model confusion matrix\n",
        "confusion_matrix(y,y_pred)"
      ],
      "metadata": {
        "id": "0nf5-Nww19Pm"
      },
      "execution_count": null,
      "outputs": []
    },
    {
      "cell_type": "code",
      "source": [
        "# future prediction\n"
      ],
      "metadata": {
        "id": "zLGdElWP2HQD"
      },
      "execution_count": null,
      "outputs": []
    },
    {
      "cell_type": "code",
      "source": [
        "# define X_new\n"
      ],
      "metadata": {
        "id": "65nYkxvt2KDu"
      },
      "execution_count": null,
      "outputs": []
    },
    {
      "cell_type": "code",
      "source": [
        "# predict for X_new"
      ],
      "metadata": {
        "id": "O5W4P3812Ntt"
      },
      "execution_count": null,
      "outputs": []
    },
    {
      "cell_type": "code",
      "source": [
        "# model classification report\n",
        "print(classification_report(y,y_pred))"
      ],
      "metadata": {
        "id": "rTmiBF4l2Agv"
      },
      "execution_count": null,
      "outputs": []
    }
  ]
}